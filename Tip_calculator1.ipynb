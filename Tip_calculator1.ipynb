{
  "nbformat": 4,
  "nbformat_minor": 0,
  "metadata": {
    "colab": {
      "provenance": [],
      "authorship_tag": "ABX9TyPImvr/B0hmFAS/fLp6jyXV",
      "include_colab_link": true
    },
    "kernelspec": {
      "name": "python3",
      "display_name": "Python 3"
    },
    "language_info": {
      "name": "python"
    }
  },
  "cells": [
    {
      "cell_type": "markdown",
      "metadata": {
        "id": "view-in-github",
        "colab_type": "text"
      },
      "source": [
        "<a href=\"https://colab.research.google.com/github/Sejalkose/tip-calculator/blob/main/Tip_calculator1.ipynb\" target=\"_parent\"><img src=\"https://colab.research.google.com/assets/colab-badge.svg\" alt=\"Open In Colab\"/></a>"
      ]
    },
    {
      "cell_type": "code",
      "execution_count": 1,
      "metadata": {
        "colab": {
          "base_uri": "https://localhost:8080/"
        },
        "id": "NgPSmBzoJ_IE",
        "outputId": "a369f480-4c94-41a3-cd04-7ff0b7b3378b"
      },
      "outputs": [
        {
          "output_type": "stream",
          "name": "stdout",
          "text": [
            "Welcome to the tip calculator!\n",
            "What was the total bill? Rs.180\n",
            "How much amount would you like to give?10, 12 or 15? 12\n",
            "How many people to split the bill ?2\n",
            "Your total bill is:201.6\n",
            "Each person should pay :100.8\n"
          ]
        }
      ],
      "source": [
        "print(\"Welcome to the tip calculator!\")\n",
        "bill=float(input(\"What was the total bill?\" + \" \" +\"Rs.\"))\n",
        "tip =int(input(\"How much amount would you like to give?\" + \"10, 12 or 15?\"+ \" \"))\n",
        "people =int(input(\"How many people to split the bill ?\"))\n",
        "\n",
        "total_bill = tip/100 * bill + bill\n",
        "print(f\"Your total bill is:{total_bill}\")\n",
        "per_person = total_bill/people\n",
        "print(f\"Each person should pay :{per_person}\")\n"
      ]
    }
  ]
}